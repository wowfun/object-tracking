{
 "metadata": {
  "language_info": {
   "codemirror_mode": {
    "name": "ipython",
    "version": 3
   },
   "file_extension": ".py",
   "mimetype": "text/x-python",
   "name": "python",
   "nbconvert_exporter": "python",
   "pygments_lexer": "ipython3",
   "version": "3.8.8"
  },
  "orig_nbformat": 2,
  "kernelspec": {
   "name": "python388jvsc74a57bd08f75aeaabffaaeb78d94f966374b308e1ecb36973bae4a31f4ec854d3910788f",
   "display_name": "Python 3.8.8 64-bit ('cv': conda)"
  }
 },
 "nbformat": 4,
 "nbformat_minor": 2,
 "cells": [
  {
   "cell_type": "code",
   "execution_count": null,
   "metadata": {},
   "outputs": [],
   "source": [
    "%matplotlib inline\n",
    "from __future__ import absolute_import, print_function\n",
    "\n",
    "from got10k.experiments import *\n",
    "\n",
    "from siamrpn.tracker import SiamRPNTracker\n",
    "\n",
    "# setup tracker\n",
    "net_path = 'pretrained/siamrpn/siamrpn_50.pth'\n",
    "tracker = SiamRPNTracker(net_path)\n"
   ]
  },
  {
   "cell_type": "code",
   "execution_count": null,
   "metadata": {},
   "outputs": [],
   "source": [
    "# setup experiments\n",
    "e =ExperimentGOT10k('data/GOT-10k', subset='val')"
   ]
  },
  {
   "cell_type": "code",
   "execution_count": null,
   "metadata": {
    "tags": []
   },
   "outputs": [],
   "source": [
    "# run tracking experiments and report performance\n",
    "\n",
    "e.run(tracker, visualize=True)\n",
    "e.report([tracker.name])"
   ]
  },
  {
   "cell_type": "code",
   "execution_count": null,
   "metadata": {},
   "outputs": [],
   "source": [
    "e2 =ExperimentGOT10k('data/GOT-10k', subset='test')"
   ]
  },
  {
   "cell_type": "code",
   "execution_count": null,
   "metadata": {
    "tags": []
   },
   "outputs": [],
   "source": [
    "# run tracking experiments and report performance\n",
    "e2.run(tracker, visualize=True)\n",
    "e2.report([tracker.name])"
   ]
  },
  {
   "cell_type": "code",
   "execution_count": null,
   "metadata": {},
   "outputs": [],
   "source": []
  }
 ]
}